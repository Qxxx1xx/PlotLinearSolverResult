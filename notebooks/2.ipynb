{
 "cells": [
  {
   "cell_type": "code",
   "execution_count": 1,
   "metadata": {},
   "outputs": [],
   "source": [
    "import h5py\n",
    "import copy"
   ]
  },
  {
   "cell_type": "code",
   "execution_count": 2,
   "metadata": {},
   "outputs": [],
   "source": [
    "import os\n",
    "import os.path\n",
    "\n",
    "def print_folder_tree(path, depth=0):\n",
    "    # files = []\n",
    "    items = os.listdir(path)\n",
    "    for index, i in enumerate(items):\n",
    "        # 是否是最后一个元素\n",
    "        is_last = index == len(items) - 1\n",
    "        # 拼接文件路径\n",
    "        i_path = path + \"/\" + i\n",
    "        # 根据层数打印空格\n",
    "        print(\"   \" * depth,end=\"\")\n",
    "        if is_last:\n",
    "            print(\"└── \", end=\"\")\n",
    "        else:\n",
    "            print(\"├── \", end=\"\")\n",
    "        # 如果是文件夹, 递归\n",
    "        if os.path.isdir(i_path):\n",
    "            print(i)\n",
    "            print_folder_tree(path=i_path, depth=depth + 1)\n",
    "        # 如果是文件就把路径添加到files数组\n",
    "        else:\n",
    "            print(i_path.split(\"/\")[-1])\n",
    "            # files.append(i_path)\n",
    "    # return files "
   ]
  },
  {
   "cell_type": "code",
   "execution_count": 3,
   "metadata": {},
   "outputs": [
    {
     "name": "stdout",
     "output_type": "stream",
     "text": [
      "├── .env\n",
      "├── .gitignore\n",
      "├── data\n",
      "   ├── external\n",
      "      └── .gitkeep\n",
      "   ├── interim\n",
      "      └── .gitkeep\n",
      "   ├── processed\n",
      "      └── .gitkeep\n",
      "   └── raw\n",
      "      └── .gitkeep\n",
      "├── docs\n",
      "   ├── commands.rst\n",
      "   ├── conf.py\n",
      "   ├── getting-started.rst\n",
      "   ├── index.rst\n",
      "   ├── make.bat\n",
      "   └── Makefile\n",
      "├── LICENSE\n",
      "├── Makefile\n",
      "├── models\n",
      "   └── .gitkeep\n",
      "├── notebooks\n",
      "   ├── .gitkeep\n",
      "   ├── 1.ipynb\n",
      "   ├── 2.ipynb\n",
      "   └── cantileverBeam_3.h5\n",
      "├── PlotLinearSolverResult\n",
      "   ├── read_from_hdf5.py\n",
      "   ├── __init__.py\n",
      "   └── __pycache__\n",
      "      ├── read_from_hdf5.cpython-311.pyc\n",
      "      └── __init__.cpython-311.pyc\n",
      "├── README.md\n",
      "├── references\n",
      "   └── .gitkeep\n",
      "├── reports\n",
      "   ├── .gitkeep\n",
      "   └── figures\n",
      "      └── .gitkeep\n",
      "├── requirements.txt\n",
      "├── setup.py\n",
      "├── test_environment.py\n",
      "└── tox.ini\n"
     ]
    }
   ],
   "source": [
    "print_folder_tree('C:\\\\Users\\\\Qxxxx\\\\Desktop\\\\Work\\\\code\\\\PlotLinearSolverResult',0)"
   ]
  },
  {
   "cell_type": "code",
   "execution_count": 4,
   "metadata": {},
   "outputs": [],
   "source": [
    "def print_to_dset(h5obj,depth=0):\n",
    "    if type(h5obj) == h5py._hl.dataset.Dataset:\n",
    "        return h5obj.name\n",
    "    dset_paths = []\n",
    "    items = list(h5obj.keys())\n",
    "    for index,item in enumerate(items):\n",
    "        if str.isdigit(item):\n",
    "            continue\n",
    "        # 是否是最后一个元素\n",
    "        is_last = index == len(items)-1\n",
    "        # 得到下一级的h5对象\n",
    "        item_h5obj = h5obj[item]\n",
    "        print(\"   \"*depth,end=\"\")\n",
    "        if is_last:\n",
    "            print(\"└──\",end=\"\")\n",
    "        else:\n",
    "            print(\"├──\",end=\"\")\n",
    "\n",
    "        print(item)\n",
    "        dset_paths.append(print_to_dset(item_h5obj,depth+1))\n",
    "\n",
    "    return dset_paths\n"
   ]
  },
  {
   "cell_type": "code",
   "execution_count": 5,
   "metadata": {},
   "outputs": [],
   "source": [
    "f = h5py.File('cantileverBeam_3.h5','r')"
   ]
  },
  {
   "cell_type": "code",
   "execution_count": 6,
   "metadata": {},
   "outputs": [
    {
     "name": "stdout",
     "output_type": "stream",
     "text": [
      "├──Animation\n",
      "   └──Index\n",
      "      ├──Ground\n",
      "         └──Frame\n",
      "      └──Part_Beam\n",
      "         ├──Frame\n",
      "         └──Part_BeamNodes\n",
      "├──Curve\n",
      "   └──Index\n",
      "      ├──Ground\n",
      "         └──Markers\n",
      "            └──Marker_0\n",
      "      └──Part_Beam\n",
      "         └──Nodes\n",
      "├──ModalInformation\n",
      "   ├──Index\n",
      "      ├──Ground\n",
      "         └──Frame\n",
      "      └──Part_Beam\n",
      "         ├──Frame\n",
      "         └──Part_BeamNodes\n",
      "   ├──NaturalFrequencies\n",
      "   └──SystemModalMass\n",
      "└──TimeStamps\n"
     ]
    },
    {
     "data": {
      "text/plain": [
       "[[[['/Animation/Index/Ground/Frame'],\n",
       "   ['/Animation/Index/Part_Beam/Frame',\n",
       "    '/Animation/Index/Part_Beam/Part_BeamNodes']]],\n",
       " [[[['/Curve/Index/Ground/Markers/Marker_0']], [[]]]],\n",
       " [[['/ModalInformation/Index/Ground/Frame'],\n",
       "   ['/ModalInformation/Index/Part_Beam/Frame',\n",
       "    '/ModalInformation/Index/Part_Beam/Part_BeamNodes']],\n",
       "  '/ModalInformation/NaturalFrequencies',\n",
       "  '/ModalInformation/SystemModalMass'],\n",
       " '/TimeStamps']"
      ]
     },
     "execution_count": 6,
     "metadata": {},
     "output_type": "execute_result"
    }
   ],
   "source": [
    "print_to_dset(f)"
   ]
  },
  {
   "cell_type": "code",
   "execution_count": 11,
   "metadata": {},
   "outputs": [],
   "source": [
    "a1 = f['/Animation/100']"
   ]
  },
  {
   "cell_type": "code",
   "execution_count": null,
   "metadata": {},
   "outputs": [],
   "source": [
    "a1[]"
   ]
  }
 ],
 "metadata": {
  "kernelspec": {
   "display_name": "plot_linear_solver_result",
   "language": "python",
   "name": "python3"
  },
  "language_info": {
   "codemirror_mode": {
    "name": "ipython",
    "version": 3
   },
   "file_extension": ".py",
   "mimetype": "text/x-python",
   "name": "python",
   "nbconvert_exporter": "python",
   "pygments_lexer": "ipython3",
   "version": "3.11.0"
  },
  "orig_nbformat": 4
 },
 "nbformat": 4,
 "nbformat_minor": 2
}
